{
 "cells": [
  {
   "cell_type": "code",
   "execution_count": null,
   "metadata": {
    "collapsed": false
   },
   "outputs": [],
   "source": [
    "# import cv2\n",
    "\n",
    "# # read\n",
    "# img = cv2.imread(\"vi_osmo_numbers/cropped_number_rotated/o2.jpg_cropped.png\")\n",
    "# # to grayscale\n",
    "# img_gray = cv2.cvtColor(img, cv2.COLOR_BGR2GRAY)\n",
    "# # binarization using Otsu method\n",
    "# otsu_threshold, img_binarized = cv2.threshold(img_gray, 0, 255, cv2.THRESH_BINARY_INV+cv2.THRESH_OTSU)\n",
    "# # display binarized image\n",
    "# cv2.imshow(\"binarized\", img_binarized)\n",
    "# cv2.waitKey(0)\n",
    "# cv2.destroyAllWindows()\n",
    "\n"
   ]
  },
  {
   "cell_type": "code",
   "execution_count": null,
   "metadata": {
    "collapsed": true
   },
   "outputs": [],
   "source": []
  },
  {
   "cell_type": "code",
   "execution_count": null,
   "metadata": {
    "collapsed": false
   },
   "outputs": [],
   "source": [
    "import cv2\n",
    "import os\n",
    "\n",
    "strFolder = 'vi_osmo_numbers/cropped_number_rotated'\n",
    "lstFiles = [f for f in os.listdir(strFolder) if os.path.isfile(strFolder+'/'+f)]\n",
    "tupleDim = (28, 28)\n",
    "#print lstFiles\n",
    "for fname in lstFiles:\n",
    "    f = '/'.join([strFolder, fname])\n",
    "    #print f\n",
    "    # read\n",
    "    img = cv2.imread(f)\n",
    "    # to grayscale\n",
    "    img_gray = cv2.cvtColor(img, cv2.COLOR_BGR2GRAY)\n",
    "    # binarization using Otsu method\n",
    "    otsu_threshold, img_binarized = cv2.threshold(img_gray, 0, 255, cv2.THRESH_BINARY_INV+cv2.THRESH_OTSU)\n",
    "    ## display binarized image\n",
    "    #cv2.imshow(\"binarized\", img_binarized)\n",
    "    #cv2.waitKey(0)\n",
    "    \n",
    "    img_resized = cv2.resize(img_binarized, tupleDim, interpolation = cv2.INTER_LINEAR)\n",
    "    #cv2.imshow(\"resized\", img_resized)\n",
    "    #cv2.waitKey(0)\n",
    "    \n",
    "    ## write a binarized image to file \n",
    "    ##cv2.imwrite('/'.join([strFolder, \"binarized\", fname]), img_binarized)\n",
    "    #cv2.imwrite('/'.join([strFolder, \"binarized\", fname]), img_resized)\n",
    "    \n",
    "    \n",
    "    \n",
    "\n",
    "#cv2.destroyAllWindows()\n",
    "    "
   ]
  }
 ],
 "metadata": {
  "kernelspec": {
   "display_name": "Python 2",
   "language": "python",
   "name": "python2"
  },
  "language_info": {
   "codemirror_mode": {
    "name": "ipython",
    "version": 2
   },
   "file_extension": ".py",
   "mimetype": "text/x-python",
   "name": "python",
   "nbconvert_exporter": "python",
   "pygments_lexer": "ipython2",
   "version": "2.7.6"
  }
 },
 "nbformat": 4,
 "nbformat_minor": 1
}
